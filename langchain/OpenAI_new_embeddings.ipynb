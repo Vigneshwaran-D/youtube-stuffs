{
  "cells": [
    {
      "cell_type": "markdown",
      "metadata": {
        "id": "view-in-github",
        "colab_type": "text"
      },
      "source": [
        "<a href=\"https://colab.research.google.com/github/sudarshan-koirala/youtube-stuffs/blob/main/langchain/OpenAI_new_embeddings.ipynb\" target=\"_parent\"><img src=\"https://colab.research.google.com/assets/colab-badge.svg\" alt=\"Open In Colab\"/></a>"
      ]
    },
    {
      "cell_type": "markdown",
      "source": [
        "# OpenAI embeddings with and without LangChain\n",
        "- [New announcemnet link](https://openai.com/blog/new-embedding-models-and-api-updates)"
      ],
      "metadata": {
        "id": "sazlKC__cihu"
      }
    },
    {
      "cell_type": "markdown",
      "source": [
        "## OpenAI New Embeddings\n",
        "#### [New embeddings doc](https://platform.openai.com/docs/guides/embeddings/)"
      ],
      "metadata": {
        "id": "tei7VBQqcYa2"
      }
    },
    {
      "cell_type": "code",
      "source": [
        "!pip install openai"
      ],
      "metadata": {
        "colab": {
          "base_uri": "https://localhost:8080/"
        },
        "id": "7oe-8Gnkb5pg",
        "outputId": "e3f84430-130e-4970-e0b9-fc5bd41b481c"
      },
      "execution_count": 20,
      "outputs": [
        {
          "output_type": "stream",
          "name": "stdout",
          "text": [
            "Requirement already satisfied: openai in /usr/local/lib/python3.10/dist-packages (1.10.0)\n",
            "Requirement already satisfied: anyio<5,>=3.5.0 in /usr/local/lib/python3.10/dist-packages (from openai) (3.7.1)\n",
            "Requirement already satisfied: distro<2,>=1.7.0 in /usr/lib/python3/dist-packages (from openai) (1.7.0)\n",
            "Requirement already satisfied: httpx<1,>=0.23.0 in /usr/local/lib/python3.10/dist-packages (from openai) (0.26.0)\n",
            "Requirement already satisfied: pydantic<3,>=1.9.0 in /usr/local/lib/python3.10/dist-packages (from openai) (1.10.14)\n",
            "Requirement already satisfied: sniffio in /usr/local/lib/python3.10/dist-packages (from openai) (1.3.0)\n",
            "Requirement already satisfied: tqdm>4 in /usr/local/lib/python3.10/dist-packages (from openai) (4.66.1)\n",
            "Requirement already satisfied: typing-extensions<5,>=4.7 in /usr/local/lib/python3.10/dist-packages (from openai) (4.9.0)\n",
            "Requirement already satisfied: idna>=2.8 in /usr/local/lib/python3.10/dist-packages (from anyio<5,>=3.5.0->openai) (3.6)\n",
            "Requirement already satisfied: exceptiongroup in /usr/local/lib/python3.10/dist-packages (from anyio<5,>=3.5.0->openai) (1.2.0)\n",
            "Requirement already satisfied: certifi in /usr/local/lib/python3.10/dist-packages (from httpx<1,>=0.23.0->openai) (2023.11.17)\n",
            "Requirement already satisfied: httpcore==1.* in /usr/local/lib/python3.10/dist-packages (from httpx<1,>=0.23.0->openai) (1.0.2)\n",
            "Requirement already satisfied: h11<0.15,>=0.13 in /usr/local/lib/python3.10/dist-packages (from httpcore==1.*->httpx<1,>=0.23.0->openai) (0.14.0)\n"
          ]
        }
      ]
    },
    {
      "cell_type": "code",
      "execution_count": 2,
      "metadata": {
        "id": "JwPwDiOFl8qA",
        "colab": {
          "base_uri": "https://localhost:8080/"
        },
        "outputId": "ef04098a-63b3-4576-934d-77074c1ce411"
      },
      "outputs": [
        {
          "name": "stdout",
          "output_type": "stream",
          "text": [
            "··········\n"
          ]
        }
      ],
      "source": [
        "# https://platform.openai.com/api-keys\n",
        "\n",
        "import getpass\n",
        "import os\n",
        "\n",
        "os.environ[\"OPENAI_API_KEY\"] = getpass.getpass()"
      ]
    },
    {
      "cell_type": "code",
      "source": [
        "from openai import OpenAI\n",
        "client = OpenAI()\n",
        "\n",
        "response = client.embeddings.create(\n",
        "    input=\"Open AI new Embeddings models is great.\",\n",
        "    model=\"text-embedding-3-small\"\n",
        ")\n",
        "\n",
        "print(response.data[0].embedding[:5])"
      ],
      "metadata": {
        "colab": {
          "base_uri": "https://localhost:8080/"
        },
        "id": "WrSWF41Pb4vJ",
        "outputId": "6db8e4c4-c9e6-44cd-9a26-0a1dcae611d7"
      },
      "execution_count": 24,
      "outputs": [
        {
          "output_type": "stream",
          "name": "stdout",
          "text": [
            "[-0.014905157499015331, -0.027476679533720016, 0.0051691289991140366, 0.0026080890092998743, -0.025682540610432625]\n"
          ]
        }
      ]
    },
    {
      "cell_type": "code",
      "source": [
        "print(len(response.data[0].embedding))"
      ],
      "metadata": {
        "colab": {
          "base_uri": "https://localhost:8080/"
        },
        "id": "mNSUi-plcC41",
        "outputId": "975807f5-a95d-48f7-ea18-e8a504fc1bae"
      },
      "execution_count": 22,
      "outputs": [
        {
          "output_type": "stream",
          "name": "stdout",
          "text": [
            "1536\n"
          ]
        }
      ]
    },
    {
      "cell_type": "markdown",
      "metadata": {
        "id": "qGbUhub_l8p_"
      },
      "source": [
        "## OpenAI Embeddings with LangChain\n",
        "## [New embeddings doc](https://platform.openai.com/docs/guides/embeddings/)"
      ]
    },
    {
      "cell_type": "markdown",
      "metadata": {
        "id": "_M2q8zdcl8p_"
      },
      "source": [
        "If you're opening this Notebook on colab, you will probably need to install LlamaIndex 🦙."
      ]
    },
    {
      "cell_type": "code",
      "execution_count": 1,
      "metadata": {
        "id": "C3mBGL7pl8qA"
      },
      "outputs": [],
      "source": [
        "%%capture\n",
        "!pip install langchain-openai"
      ]
    },
    {
      "cell_type": "markdown",
      "source": [
        "### Earlier, this is what we had / still have"
      ],
      "metadata": {
        "id": "BahELjMOqgWN"
      }
    },
    {
      "cell_type": "code",
      "source": [
        "text = \"Open AI new Embeddings models is great.\""
      ],
      "metadata": {
        "id": "HBGm2MkQY9dn"
      },
      "execution_count": 4,
      "outputs": []
    },
    {
      "cell_type": "code",
      "source": [
        "# embed query\n",
        "from langchain_openai import OpenAIEmbeddings\n",
        "\n",
        "embed_model = OpenAIEmbeddings(model=\"text-embedding-ada-002\",)\n",
        "\n",
        "embeddings = embed_model.embed_query(text)\n",
        "\n",
        "print(len(embeddings))"
      ],
      "metadata": {
        "id": "ZFZu92ufnMZ_",
        "colab": {
          "base_uri": "https://localhost:8080/"
        },
        "outputId": "49cdb391-0d3c-4ab9-835f-ace851e6093d"
      },
      "execution_count": 6,
      "outputs": [
        {
          "output_type": "stream",
          "name": "stdout",
          "text": [
            "1536\n"
          ]
        }
      ]
    },
    {
      "cell_type": "code",
      "source": [
        "# embed document\n",
        "from langchain_openai import OpenAIEmbeddings\n",
        "\n",
        "embed_model = OpenAIEmbeddings(model=\"text-embedding-ada-002\",)\n",
        "\n",
        "embeddings = embed_model.embed_documents([text])\n",
        "\n",
        "print(embeddings[0][:5])"
      ],
      "metadata": {
        "colab": {
          "base_uri": "https://localhost:8080/"
        },
        "id": "UJxgUAjQazAw",
        "outputId": "6b261006-de09-4a7c-9feb-a56e1e256776"
      },
      "execution_count": 17,
      "outputs": [
        {
          "output_type": "stream",
          "name": "stdout",
          "text": [
            "[-0.014460097826571622, 0.010717565066430538, -0.0005259705295691181, -0.030436506133245455, 0.0034633932689342997]\n"
          ]
        }
      ]
    },
    {
      "cell_type": "code",
      "source": [
        "print(len(embeddings))"
      ],
      "metadata": {
        "colab": {
          "base_uri": "https://localhost:8080/"
        },
        "id": "mCX3wP17bF3k",
        "outputId": "05aaea55-0eb8-44c4-d498-ada45ca8ab5c"
      },
      "execution_count": 18,
      "outputs": [
        {
          "output_type": "stream",
          "name": "stdout",
          "text": [
            "1\n"
          ]
        }
      ]
    },
    {
      "cell_type": "code",
      "source": [
        "print(len(embeddings[0]))"
      ],
      "metadata": {
        "colab": {
          "base_uri": "https://localhost:8080/"
        },
        "id": "LYBYgVHLbS5e",
        "outputId": "68222482-7092-44c0-af17-964c269c8a69"
      },
      "execution_count": 19,
      "outputs": [
        {
          "output_type": "stream",
          "name": "stdout",
          "text": [
            "1536\n"
          ]
        }
      ]
    },
    {
      "cell_type": "markdown",
      "metadata": {
        "id": "F34p0Ectl8qB"
      },
      "source": [
        "## Using OpenAI `text-embedding-3-large`, `text-embedding-3-small`"
      ]
    },
    {
      "cell_type": "code",
      "execution_count": 7,
      "metadata": {
        "id": "jZ9cbhe6l8qB",
        "colab": {
          "base_uri": "https://localhost:8080/"
        },
        "outputId": "cd7c83af-68ae-4e24-eaed-d30c3dd8c530"
      },
      "outputs": [
        {
          "output_type": "stream",
          "name": "stderr",
          "text": [
            "WARNING:langchain_openai.embeddings.base:Warning: model not found. Using cl100k_base encoding.\n"
          ]
        }
      ],
      "source": [
        "# embed query\n",
        "from langchain_openai import OpenAIEmbeddings\n",
        "\n",
        "embed_model = OpenAIEmbeddings(model=\"text-embedding-3-large\")\n",
        "\n",
        "embeddings = embed_model.embed_query(text)"
      ]
    },
    {
      "cell_type": "code",
      "execution_count": 8,
      "metadata": {
        "id": "9nTbQNQ3l8qB",
        "outputId": "e3f36826-a04f-4a3d-a4b1-49fcd5aa961c",
        "colab": {
          "base_uri": "https://localhost:8080/"
        }
      },
      "outputs": [
        {
          "output_type": "stream",
          "name": "stdout",
          "text": [
            "[-0.011500772465203734, 0.024574424013190717, -0.01760469620928205, -0.017763427108804714, 0.02984140165968028]\n"
          ]
        }
      ],
      "source": [
        "print(embeddings[:5])"
      ]
    },
    {
      "cell_type": "code",
      "execution_count": 9,
      "metadata": {
        "id": "LYgKfAUbl8qC",
        "outputId": "5c4dc544-ced9-436a-97a3-1be519234a43",
        "colab": {
          "base_uri": "https://localhost:8080/"
        }
      },
      "outputs": [
        {
          "output_type": "stream",
          "name": "stdout",
          "text": [
            "3072\n"
          ]
        }
      ],
      "source": [
        "print(len(embeddings))"
      ]
    },
    {
      "cell_type": "code",
      "source": [
        "# embed documents\n",
        "from langchain_openai import OpenAIEmbeddings\n",
        "\n",
        "embed_model = OpenAIEmbeddings(model=\"text-embedding-3-large\")\n",
        "\n",
        "embeddings = embed_model.embed_documents([text])"
      ],
      "metadata": {
        "colab": {
          "base_uri": "https://localhost:8080/"
        },
        "id": "M74m1DXYY4K4",
        "outputId": "1b8a2c58-3848-4d08-a241-644892c287e7"
      },
      "execution_count": 10,
      "outputs": [
        {
          "output_type": "stream",
          "name": "stderr",
          "text": [
            "WARNING:langchain_openai.embeddings.base:Warning: model not found. Using cl100k_base encoding.\n"
          ]
        }
      ]
    },
    {
      "cell_type": "code",
      "source": [
        "embeddings[0][:5]"
      ],
      "metadata": {
        "colab": {
          "base_uri": "https://localhost:8080/"
        },
        "id": "7aHOQR2AaPo0",
        "outputId": "dcb14985-f324-4681-caa3-b64d97e5698f"
      },
      "execution_count": 11,
      "outputs": [
        {
          "output_type": "execute_result",
          "data": {
            "text/plain": [
              "[-0.011500772465203734,\n",
              " 0.024574424013190717,\n",
              " -0.01760469620928205,\n",
              " -0.017763427108804714,\n",
              " 0.02984140165968028]"
            ]
          },
          "metadata": {},
          "execution_count": 11
        }
      ]
    },
    {
      "cell_type": "code",
      "source": [],
      "metadata": {
        "id": "GqDtKaiTaVNG"
      },
      "execution_count": null,
      "outputs": []
    },
    {
      "cell_type": "code",
      "execution_count": 12,
      "metadata": {
        "id": "Z3ItKCwhl8qC",
        "colab": {
          "base_uri": "https://localhost:8080/"
        },
        "outputId": "fe20e7e1-afe8-477b-a2c2-8e71440953ce"
      },
      "outputs": [
        {
          "output_type": "stream",
          "name": "stderr",
          "text": [
            "WARNING:langchain_openai.embeddings.base:Warning: model not found. Using cl100k_base encoding.\n"
          ]
        }
      ],
      "source": [
        "# embed query\n",
        "from langchain_openai import OpenAIEmbeddings\n",
        "\n",
        "embed_model = OpenAIEmbeddings(model=\"text-embedding-3-small\")\n",
        "\n",
        "embeddings = embed_model.embed_query(text)"
      ]
    },
    {
      "cell_type": "code",
      "execution_count": 13,
      "metadata": {
        "id": "xc1SMbVxl8qC",
        "outputId": "f2fad0e6-e9c1-4357-9dd2-a61cfdff0b06",
        "colab": {
          "base_uri": "https://localhost:8080/"
        }
      },
      "outputs": [
        {
          "output_type": "stream",
          "name": "stdout",
          "text": [
            "1536\n"
          ]
        }
      ],
      "source": [
        "print(len(embeddings))"
      ]
    },
    {
      "cell_type": "markdown",
      "metadata": {
        "id": "FAGpo9P8l8qC"
      },
      "source": [
        "# Specify dimensions\n",
        "- https://openai.com/blog/new-embedding-models-and-api-updates\n",
        "\n",
        "Note: Make sure you have the latest OpenAI client\n",
        "\n",
        "### Trade-off:\n",
        "\n",
        "- Both embeddings support a novel \"dimensions\" parameter that lets you shorten the embeddings to trade accuracy for smaller vector sizes.\n",
        "- gain the ability to use the embedding model with a data store that supports only up to limited (512, 1024) dimensions.\n",
        "- sacrifice some accuracy because the reduced-dimensional embedding may not capture all the nuances present in the original higher-dimensional embedding."
      ]
    },
    {
      "cell_type": "code",
      "execution_count": 14,
      "metadata": {
        "id": "067kKJ0pl8qC",
        "outputId": "0603b96a-0383-49d0-b819-861904dc7c48",
        "colab": {
          "base_uri": "https://localhost:8080/"
        }
      },
      "outputs": [
        {
          "output_type": "stream",
          "name": "stderr",
          "text": [
            "WARNING:langchain_openai.embeddings.base:Warning: model not found. Using cl100k_base encoding.\n"
          ]
        },
        {
          "output_type": "stream",
          "name": "stdout",
          "text": [
            "1024\n"
          ]
        }
      ],
      "source": [
        "# embed query\n",
        "from langchain_openai import OpenAIEmbeddings\n",
        "\n",
        "embed_model = OpenAIEmbeddings(model=\"text-embedding-3-large\", dimensions=1024)\n",
        "\n",
        "embeddings = embed_model.embed_query(text)\n",
        "\n",
        "print(len(embeddings))"
      ]
    },
    {
      "cell_type": "code",
      "source": [
        "# embed query\n",
        "from langchain_openai import OpenAIEmbeddings\n",
        "\n",
        "embed_model = OpenAIEmbeddings(model=\"text-embedding-3-large\", dimensions=512)\n",
        "\n",
        "embeddings = embed_model.embed_query(text)\n",
        "\n",
        "print(len(embeddings))"
      ],
      "metadata": {
        "id": "TeYNI8yKo5pb",
        "outputId": "14bad71f-8df1-499d-e23a-b0ea9f731b63",
        "colab": {
          "base_uri": "https://localhost:8080/"
        }
      },
      "execution_count": 15,
      "outputs": [
        {
          "output_type": "stream",
          "name": "stderr",
          "text": [
            "WARNING:langchain_openai.embeddings.base:Warning: model not found. Using cl100k_base encoding.\n"
          ]
        },
        {
          "output_type": "stream",
          "name": "stdout",
          "text": [
            "512\n"
          ]
        }
      ]
    },
    {
      "cell_type": "markdown",
      "source": [
        "# Conclusion\n",
        "This enables very flexible usage. For example, when using a vector data store that only supports embeddings up to 1024 dimensions long, developers can now still use OpenAI's best embedding model `text-embedding-3-large` and specify a value of 1024 for the dimensions API parameter, which will shorten the embedding down from 3072 dimensions, **trading off some accuracy** in exchange for the smaller vector size."
      ],
      "metadata": {
        "id": "4WG0zM0-pXAF"
      }
    },
    {
      "cell_type": "code",
      "source": [],
      "metadata": {
        "id": "oP9ND_QxpEu6"
      },
      "execution_count": null,
      "outputs": []
    }
  ],
  "metadata": {
    "kernelspec": {
      "display_name": "venv",
      "language": "python",
      "name": "python3"
    },
    "language_info": {
      "codemirror_mode": {
        "name": "ipython",
        "version": 3
      },
      "file_extension": ".py",
      "mimetype": "text/x-python",
      "name": "python",
      "nbconvert_exporter": "python",
      "pygments_lexer": "ipython3"
    },
    "colab": {
      "provenance": [],
      "include_colab_link": true
    }
  },
  "nbformat": 4,
  "nbformat_minor": 0
}